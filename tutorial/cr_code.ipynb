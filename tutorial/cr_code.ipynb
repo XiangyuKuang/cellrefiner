{
 "cells": [
  {
   "cell_type": "code",
   "execution_count": null,
   "metadata": {},
   "outputs": [],
   "source": [
    "import numpy as np\n",
    "import pandas as pd\n",
    "import squidpy as sq\n",
    "from cellrefiner import cellrefiner\n",
    "import seaborn as sns\n",
    "import math\n",
    "import matplotlib.pyplot as plt\n",
    "from scipy.spatial import distance_matrix\n",
    "import scanpy as sc\n",
    "from sklearn.neighbors import kneighbors_graph\n",
    "from scipy.stats import pearsonr\n",
    "import squidpy as sq\n",
    "from scipy.sparse import csr_matrix\n",
    "from scipy.spatial.distance import cdist\n",
    "from scipy.optimize import linear_sum_assignment\n",
    "from scipy.spatial.distance import cdist\n",
    "from scipy.stats import gaussian_kde\n",
    "from scipy.special import kl_div\n",
    "import random\n",
    "from sklearn.neighbors import NearestNeighbors\n",
    "import scipy\n",
    "import ot\n",
    "import tangram as tg\n",
    "from anndata import AnnData"
   ]
  },
  {
   "cell_type": "markdown",
   "metadata": {},
   "source": [
    "Fig 2"
   ]
  },
  {
   "cell_type": "code",
   "execution_count": null,
   "metadata": {},
   "outputs": [],
   "source": [
    "# import Bregma mouse data from squidpy MERFISH dataset\n",
    "adata = sq.datasets.merfish()\n",
    "adata_slice = adata[adata.obs.Bregma == -9].copy()\n",
    "adata_slice=adata_slice[adata_slice.obsm['spatial'][:,1]>0.2,:]\n",
    "ind=random.sample(range(adata_slice.shape[0]),(32*32*5))\n",
    "adata_slice=adata_slice[ind,:]\n",
    "coordinates=adata_slice.obsm['spatial'].toarray()\n",
    "gene_x=adata_slice.X.toarray()\n",
    "xc=coordinates*5000 \n",
    "cell_types=adata_slice.obs['Cell_class']\n",
    "cell_types_num=pd.Categorical(cell_types).codes\n",
    "\n",
    "x = np.linspace(np.min(xc,axis=0)[0]+100, np.max(xc,axis=0)[0]-100, 32)\n",
    "y = np.linspace(np.min(xc,axis=0)[1]+100, np.max(xc,axis=0)[1]-100, 32)\n",
    "xx, yy = np.meshgrid(x, y)\n",
    "a=np.tile(xx.flatten(),(5,1)).T.flatten()\n",
    "b=np.tile(yy.flatten(),(5,1)).T.flatten()\n",
    "xs=np.concatenate(([a],[b]),axis=0).T\n",
    "\n",
    "neigh = NearestNeighbors(n_neighbors=5)\n",
    "neigh.fit(xc)\n",
    "x_id=neigh.kneighbors(xs)\n",
    "\n",
    "x_idd=x_id[1][0::5,:].flatten()\n",
    "xc0=xc[x_idd,:]\n",
    "X_sc2m1=gene_x[x_idd,:]\n",
    "X_sc_mean=np.zeros((int(x_id[1].shape[0]/5),gene_x.shape[1]))\n",
    "for i in range(X_sc_mean.shape[0]):\n",
    "    X_sc_mean[i,:]=np.sum(gene_x[x_id[1][i*5,:],:],axis=0)\n",
    "\n",
    "x = np.linspace(np.min(xc,axis=0)[0]+100, np.max(xc,axis=0)[0]-100, 32)\n",
    "y = np.linspace(np.min(xc,axis=0)[1]+100, np.max(xc,axis=0)[1]-100, 32)\n",
    "xx, yy = np.meshgrid(x, y)\n",
    "xsm=np.concatenate(([xx.flatten()],[yy.flatten()]),axis=0).T "
   ]
  },
  {
   "cell_type": "code",
   "execution_count": null,
   "metadata": {},
   "outputs": [],
   "source": [
    "adata_sc=AnnData(gene_x)\n",
    "adata_sc.obsm['spatial']=xc\n",
    "adata_st=AnnData(X_sc_mean)\n",
    "adata_st.obsm['spatial']=xsm"
   ]
  },
  {
   "cell_type": "code",
   "execution_count": null,
   "metadata": {},
   "outputs": [],
   "source": [
    "xc1=xs+np.random.normal(0,150,size=xs.shape)"
   ]
  },
  {
   "cell_type": "code",
   "execution_count": null,
   "metadata": {},
   "outputs": [],
   "source": [
    "sc.pp.pca(adata_sc)\n",
    "X_sc2m2=adata_sc.obsm['X_pca']\n",
    "x_id1=[] \n",
    "for i in range(xs.shape[0]):\n",
    "    x_id1.append(np.linalg.norm(xs-xs[i,:],axis=1)<150) "
   ]
  },
  {
   "cell_type": "code",
   "execution_count": null,
   "metadata": {},
   "outputs": [],
   "source": [
    "def V_xy(xi,xj,V0,U0,xi1,xi2):\n",
    "    r2=(xj[0]-xi[0])**2+(xj[1]-xi[1])**2\n",
    "    r=np.sqrt(r2)\n",
    "    dVdr=-2*r*V0/xi1**2*np.exp(-r2/xi1**2)+2*r/xi2**2*U0*np.exp(-r2/xi2**2)\n",
    "    drdx=(xj[0]-xi[0])*r**(-0.5)\n",
    "    drdy=(xj[1]-xi[1])*r**(-0.5)\n",
    "    dVdx=dVdr*drdx\n",
    "    dVdy=dVdr*drdy\n",
    "    \n",
    "    return np.array([dVdx,dVdy])"
   ]
  },
  {
   "cell_type": "code",
   "execution_count": null,
   "metadata": {},
   "outputs": [],
   "source": [
    "def F_gc(xi,xj,gi,gj): \n",
    "    c=pearsonr(gi,gj)[0]\n",
    "    if np.logical_and(np.linalg.norm(xi-xj)>0,c>0):\n",
    "        f=c*(xi-xj)/np.linalg.norm(xi-xj)\n",
    "    else:\n",
    "        f=0\n",
    "    return f"
   ]
  },
  {
   "cell_type": "code",
   "execution_count": null,
   "metadata": {},
   "outputs": [],
   "source": [
    "def F_spot(xi,si,rS):\n",
    "    var1=si-xi\n",
    "    f=var1/np.reshape(np.linalg.norm(var1,axis=1),(len(np.linalg.norm(var1,axis=1)),1))\n",
    "    fs=np.minimum((np.linalg.norm(var1,axis=1)-rS)**2,30)\n",
    "    f[np.linalg.norm(var1,axis=1)<rS]=0\n",
    "    return f*np.reshape(fs,(len(fs),1))"
   ]
  },
  {
   "cell_type": "code",
   "execution_count": null,
   "metadata": {},
   "outputs": [],
   "source": [
    "db = pd.read_csv(R'LR.csv')\n",
    "tl = np.zeros((adata.X.shape[0], len(db['interaction_name'])))  \n",
    "tr = np.zeros((adata.X.shape[0], len(db['interaction_name'])))\n",
    "for i in range(len(db['interaction_name'])):\n",
    "    int_name = db['interaction_name'][i].split('_')  \n",
    "    lig = int_name[0]  \n",
    "    rec = int_name[1:]  \n",
    "    lig_ind = adata_sc.var_names == lig  \n",
    "    if sum(lig_ind) > 0:\n",
    "        tl[:, i] = adata.X[:, lig_ind].flatten()\n",
    "        check = 0\n",
    "        for j in range(len(rec)):  \n",
    "            if sum(adata_sc.var_names == rec[j]) > 0:\n",
    "                check += 1\n",
    "\n",
    "        if check == len(rec):\n",
    "                rec_ct = adata.X[:, adata_sc.var_names == rec[0]]\n",
    "                for j in range(len(rec)):\n",
    "                    rec_ct = np.minimum(rec_ct, a[:, adata_sc.var_names == rec[j]])\n",
    "\n",
    "                tr[:, i] = rec_ct.flatten()\n",
    "\n",
    "    W = np.add(np.matmul(tl, tr.T), np.matmul(tr, tl.T))  \n",
    "    W = np.divide(W, np.amax(W))"
   ]
  },
  {
   "cell_type": "code",
   "execution_count": null,
   "metadata": {},
   "outputs": [],
   "source": [
    "def pre_cal1(N):\n",
    "        degree=np.diag(np.sum(N,axis=1))\n",
    "        L=degree-N\n",
    "        L_inv=np.linalg.pinv(L,rcond=np.finfo(float).tiny)\n",
    "        n=len(N)\n",
    "        q=np.multiply(N,np.diag(L_inv)+np.reshape(np.diag(L_inv.T),(-1,1))-L_inv.T-L_inv)\n",
    "        return q"
   ]
  },
  {
   "cell_type": "code",
   "execution_count": null,
   "metadata": {},
   "outputs": [],
   "source": [
    "def sparsify(W1,q):\n",
    "        n=len(W1)\n",
    "        P=np.minimum(1,np.log(n)*q)\n",
    "        H=np.ones((n,n))*np.finfo(float).tiny\n",
    "        rand=np.random.rand(n,n)\n",
    "        idx=np.where(rand<P)\n",
    "        H[idx]=W1[idx]/P[idx]\n",
    "        kept=len(H[H>np.finfo(float).tiny])/n**2\n",
    "        percent=.40\n",
    "        time=0\n",
    "        while kept<percent:\n",
    "            if time>300:\n",
    "                break\n",
    "            rand=np.random.rand(n,n)\n",
    "            idx=np.where(rand<P)\n",
    "            H[idx]=W1[idx]/P[idx]\n",
    "            kept=len(H[H>np.finfo(float).tiny])/n**2\n",
    "            time+=1\n",
    "            print('kept is:',kept)\n",
    "\n",
    "        H=H/np.amax(H)\n",
    "        return H"
   ]
  },
  {
   "cell_type": "code",
   "execution_count": null,
   "metadata": {},
   "outputs": [],
   "source": [
    "m_val = 125  # scaling param\n",
    "U0 = 0.1 / (2.85 / m_val)\n",
    "V0 = 1.1 / (2.85 / m_val)\n",
    "xi1 = 1.21 / (2.85 / m_val)\n",
    "xi2 = 1.9 / (2.85 / m_val)\n",
    "\n",
    "degree = np.diag(np.sum(W, axis=1))\n",
    "L = degree - W\n",
    "if np.linalg.det(L) > 0:\n",
    "    q = pre_cal1(W)\n",
    "    H = sparsify(W, q)\n",
    "else:\n",
    "    H = np.zeros(np.shape(W))\n",
    "\n",
    "pos_s = np.tile(xs, [iterations + 1, 1, 1])\n",
    "pos = np.tile(xc, [iterations + 1, 1, 1])  \n",
    "F_gc_const = np.linspace(1, 0, iterations) ** 2\n",
    "for i in range(iterations):\n",
    "    p = pos[i, :, :].copy()\n",
    "    p += F_spot(pos[i, :, :], pos_s[i, :, :], rS*.7)\n",
    "    for j in range(pos.shape[1]):\n",
    "        for k in np.arange(0, xc.shape[0])[x_id1[j]]:\n",
    "            if j != k:\n",
    "                dv = V_xy(pos[i, k, :], pos[i, j, :], V0, U0, xi1, xi2)\n",
    "                p[j, :] += -dt * 7100 * dv\n",
    "                p[j, :] += 4 * F_gc_const[i] * F_gc(pos[i, k, :], pos[i, j, :], X_sc2m2[k, :],X_sc2m2[j, :])  \n",
    "                p[j, :] += 4 * F_gc_const[i] * H[k, j]\n",
    "    pos[i + 1, :, :] = p\n",
    "    \n",
    "    for j in range(len(cell_num)):\n",
    "        kernel1=gaussian_kde(pos[i,cell_types_num[x_idd]==cell_num[j],:].T,bw_method=.1) # kernel for output\n",
    "        kernel2=gaussian_kde(xc[cell_types_num==cell_num[j],:].T,bw_method=.1) # kernel for original distribution\n",
    "        X, Y = np.mgrid[xs.min(axis=0)[0]:xs.max(axis=0)[0]:10j, xs.min(axis=0)[1]:xs.max(axis=0)[1]:10j] # grid for sampling\n",
    "        positions = np.vstack([X.ravel(), Y.ravel()])\n",
    "        err[j,i]=sum(kl_div(kernel1(positions),kernel2(positions)+10e-10))"
   ]
  },
  {
   "cell_type": "code",
   "execution_count": null,
   "metadata": {},
   "outputs": [],
   "source": [
    "plt.scatter(pos[-1,:,0],pos[-1,:,1],c=cell_types_num[x_idd]==5)# output for cell type 5\n",
    "plt.gca().set_aspect('equal')"
   ]
  },
  {
   "cell_type": "code",
   "execution_count": null,
   "metadata": {},
   "outputs": [],
   "source": [
    "plt.scatter(X,Y,c=kernel2(positions)) # kernel"
   ]
  },
  {
   "cell_type": "markdown",
   "metadata": {},
   "source": [
    "Fig 3"
   ]
  },
  {
   "cell_type": "code",
   "execution_count": null,
   "metadata": {},
   "outputs": [],
   "source": [
    "ad_map = tg.map_cells_to_space(adata_sc, adata_st,\n",
    "    mode=\"cells\",\n",
    "    density_prior='rna_count_based',\n",
    "    num_epochs=500,\n",
    "    #device=\"cuda:0\",\n",
    "    device='cpu',\n",
    ")"
   ]
  },
  {
   "cell_type": "code",
   "execution_count": null,
   "metadata": {},
   "outputs": [],
   "source": [
    "xc1=xs+np.random.normal(0,75,size=xs.shape)\n",
    "gmap=ad_map.X\n",
    "cell5=np.zeros((gmap.shape[1],5))\n",
    "gmap1=gmap\n",
    "for i in range(gmap1.shape[1]):\n",
    "    cell5[i,:]= np.argpartition(gmap1[:,i], -5)[-5:]\n",
    "    gmap1[cell5[i,:].astype(int),:]=0\n",
    "    \n",
    "cell5m=cell5.flatten().astype(int)"
   ]
  },
  {
   "cell_type": "code",
   "execution_count": null,
   "metadata": {},
   "outputs": [],
   "source": [
    "adata_sc=adata_sc[cell5m,:]\n",
    "X_sc2m2=adata_sc.X.toarray()"
   ]
  },
  {
   "cell_type": "code",
   "execution_count": null,
   "metadata": {},
   "outputs": [],
   "source": [
    "tl = np.zeros((adata.X.shape[0], len(db['interaction_name'])))  \n",
    "tr = np.zeros((adata.X.shape[0], len(db['interaction_name'])))\n",
    "for i in range(len(db['interaction_name'])):\n",
    "    int_name = db['interaction_name'][i].split('_')  \n",
    "    lig = int_name[0]  \n",
    "    rec = int_name[1:]  \n",
    "    lig_ind = adata_sc.var_names == lig  \n",
    "    if sum(lig_ind) > 0:\n",
    "        tl[:, i] = adata.X[:, lig_ind].flatten()\n",
    "        check = 0\n",
    "        for j in range(len(rec)):  \n",
    "            if sum(adata_sc.var_names == rec[j]) > 0:\n",
    "                check += 1\n",
    "\n",
    "        if check == len(rec):\n",
    "                rec_ct = adata.X[:, adata_sc.var_names == rec[0]]\n",
    "                for j in range(len(rec)):\n",
    "                    rec_ct = np.minimum(rec_ct, a[:, adata_sc.var_names == rec[j]])\n",
    "\n",
    "                tr[:, i] = rec_ct.flatten()\n",
    "\n",
    "    W = np.add(np.matmul(tl, tr.T), np.matmul(tr, tl.T))  \n",
    "    W = np.divide(W, np.amax(W))"
   ]
  },
  {
   "cell_type": "code",
   "execution_count": null,
   "metadata": {},
   "outputs": [],
   "source": [
    "m_val = 125  # scaling param\n",
    "U0 = 0.1 / (2.85 / m_val)\n",
    "V0 = 1.1 / (2.85 / m_val)\n",
    "xi1 = 1.21 / (2.85 / m_val)\n",
    "xi2 = 1.9 / (2.85 / m_val)\n",
    "\n",
    "degree = np.diag(np.sum(W, axis=1))\n",
    "L = degree - W\n",
    "if np.linalg.det(L) > 0:\n",
    "    q = pre_cal1(W)\n",
    "    H = sparsify(W, q)\n",
    "else:\n",
    "    H = np.zeros(np.shape(W))\n",
    "\n",
    "pos_s = np.tile(xs, [iterations + 1, 1, 1])\n",
    "pos = np.tile(xc, [iterations + 1, 1, 1])  \n",
    "F_gc_const = np.linspace(1, 0, iterations) ** 2\n",
    "for i in range(iterations):\n",
    "    p = pos[i, :, :].copy()\n",
    "    p += F_spot(pos[i, :, :], pos_s[i, :, :], rS*.7)\n",
    "    for j in range(pos.shape[1]):\n",
    "        for k in np.arange(0, xc.shape[0])[x_id1[j]]:\n",
    "            if j != k:\n",
    "                dv = V_xy(pos[i, k, :], pos[i, j, :], V0, U0, xi1, xi2)\n",
    "                p[j, :] += -dt * 7100 * dv\n",
    "                p[j, :] += 4 * F_gc_const[i] * F_gc(pos[i, k, :], pos[i, j, :], X_sc2m2[k, :],X_sc2m2[j, :])  \n",
    "                p[j, :] += 4 * F_gc_const[i] * H[k, j]\n",
    "    pos[i + 1, :, :] = p\n",
    "    \n",
    "    for j in range(len(cell_num)):\n",
    "        kernel1=gaussian_kde(pos[i,cell_types_num[x_idd]==cell_num[j],:].T,bw_method=.1) # kernel for output\n",
    "        kernel2=gaussian_kde(xc[cell_types_num==cell_num[j],:].T,bw_method=.1) # kernel for original distribution\n",
    "        X, Y = np.mgrid[xs.min(axis=0)[0]:xs.max(axis=0)[0]:10j, xs.min(axis=0)[1]:xs.max(axis=0)[1]:10j] # grid for sampling\n",
    "        positions = np.vstack([X.ravel(), Y.ravel()])\n",
    "        err[j,i]=sum(kl_div(kernel1(positions),kernel2(positions)+10e-10))"
   ]
  },
  {
   "cell_type": "code",
   "execution_count": null,
   "metadata": {},
   "outputs": [],
   "source": [
    "adata_sc1=AnnData(gene_x)\n",
    "adata_sc1.obsm['spatial']=pos[-1,:,:]\n",
    "adata_sc1.obsm['spatial'][:,1]=-adata_sc1.obsm['spatial'][:,1]\n",
    "adata_sc1.obs['Cell_class']=cell_types_num[x_idd]"
   ]
  },
  {
   "cell_type": "code",
   "execution_count": null,
   "metadata": {},
   "outputs": [],
   "source": [
    "x=adata_sc1.obsm['spatial']\n",
    "a=adata_sc1.obs['Cell_class']\n",
    "cc=np.zeros((len(np.unique(a)),len(np.unique(a))))\n",
    "d1=d<500\n",
    "for i in range(len(np.unique(a))):\n",
    "    for j in range(len(np.unique(a))):\n",
    "        temp=d1[a==i,:]\n",
    "        cc[i,j]=np.sum(temp[:,a==j])"
   ]
  },
  {
   "cell_type": "code",
   "execution_count": null,
   "metadata": {},
   "outputs": [],
   "source": [
    "# cc contact map\n",
    "sns.heatmap(cc/np.max(cc,axis=0),yticklabels=np.unique(adata_sc1.obs['Cell_class']))"
   ]
  },
  {
   "cell_type": "code",
   "execution_count": null,
   "metadata": {},
   "outputs": [],
   "source": [
    "# seqfish\n",
    "adata=sq.datasets.seqfish()"
   ]
  },
  {
   "cell_type": "code",
   "execution_count": null,
   "metadata": {},
   "outputs": [],
   "source": [
    "ex=np.random.choice(adata.shape[0],size=2000,replace=False)\n",
    "adata_st=adata[ex,:].copy()\n",
    "sc_d=np.setdiff1d(np.arange(0,adata.shape[0]),ex)\n",
    "adata_sc=adata[np.random.choice(sc_d.shape[0],size=10000,replace=False),:].copy()"
   ]
  },
  {
   "cell_type": "code",
   "execution_count": null,
   "metadata": {},
   "outputs": [],
   "source": [
    "neigh = NearestNeighbors(n_neighbors=5)\n",
    "neigh.fit(adata_sc.obsm['spatial'])\n",
    "x_id=neigh.kneighbors(adata_st.obsm['spatial'])\n",
    "gene_x=adata_sc.X.toarray()\n",
    "X_sc_mean=np.zeros((adata_st.X.shape))\n",
    "for i in range(X_sc_mean.shape[0]):\n",
    "    X_sc_mean[i,:]=np.sum(gene_x[x_id[1][i],:],axis=0)"
   ]
  },
  {
   "cell_type": "code",
   "execution_count": null,
   "metadata": {},
   "outputs": [],
   "source": [
    "adata_sc.obs['Cell_class']=pd.Categorical(adata_sc.obs['label'])\n",
    "adata_st.X=X_sc_mean"
   ]
  },
  {
   "cell_type": "code",
   "execution_count": null,
   "metadata": {},
   "outputs": [],
   "source": [
    "adata_sc.obs['Cell_class']=pd.Categorical(adata_sc.obs['celltype_mapped_refined'])\n",
    "adata_st.X=X_sc_mean"
   ]
  },
  {
   "cell_type": "code",
   "execution_count": null,
   "metadata": {},
   "outputs": [],
   "source": [
    "cr = cellrefiner.CellRefiner(adata_st=adata_st,adata_sc=adata_sc,db=db)\n",
    "cr.gen_w()\n",
    "cr.pp_cr(group = \"Cell_class\")\n",
    "cr.sim_cr(iterations=8,W=cr.W,tissue_bound=1)"
   ]
  },
  {
   "cell_type": "code",
   "execution_count": null,
   "metadata": {},
   "outputs": [],
   "source": [
    "ct_c=cr.pos[0,:,:]\n",
    "\n",
    "e=0\n",
    "for i in np.unique(cell_codes): # loop over cell types\n",
    "    xs=adata_sc.obsm['spatial'][pd.Categorical(adata_sc.obs['Cell_class']).codes==i,:] # spatial coords for ground truth\n",
    "    xt=pos[0,cell_codes==i,:] # spatial coords for simulation\n",
    "    a = np.array(np.ones((xs.shape[0],)) / xs.shape[0]) # uniform distribution on samples\n",
    "    b = np.array(np.ones((xt.shape[0],)) / xt.shape[0] ) # uniform distribution on samples\n",
    "    M = ot.dist(xs, xt,metric='euclidean') \n",
    "    M=M/np.max(M)\n",
    "    e+=ot.bregman.sinkhorn2(a,b,M,1)\n",
    "    \n",
    "print(e)\n",
    "\n",
    "x,y=np.meshgrid(np.linspace(np.amin(ct_c[:,0]),np.amax(ct_c[:,0]),100),np.linspace(np.amin(ct_c[:,1]),np.amax(ct_c[:,1]),100))\n",
    "positions = np.vstack([x.ravel(), y.ravel()])\n",
    "e1=0\n",
    "for i in np.unique(cell_codes): # loop over cell types\n",
    "    xs=adata_sc.obsm['spatial'][pd.Categorical(adata_sc.obs['Cell_class']).codes==i,:] # spatial coords for ground truth\n",
    "    xt=pos[0,cell_codes==i,:] # spatial coords for simulation\n",
    "    kernel1=gaussian_kde(xs.T,.1)\n",
    "    kernel2=gaussian_kde(xt.T,.1)\n",
    "    e1+=sum(kl_div(kernel1(positions),kernel2(positions)))\n",
    "    \n",
    "print(e1)"
   ]
  },
  {
   "cell_type": "code",
   "execution_count": null,
   "metadata": {},
   "outputs": [],
   "source": [
    "x=adata_sc.obsm['spatial']\n",
    "a=adata_sc.obs['Cell_class']\n",
    "cc=np.zeros((len(np.unique(a)),len(np.unique(a))))\n",
    "d1=d<500\n",
    "for i in range(len(np.unique(a))):\n",
    "    for j in range(len(np.unique(a))):\n",
    "        temp=d1[a==i,:]\n",
    "        cc[i,j]=np.sum(temp[:,a==j])"
   ]
  },
  {
   "cell_type": "code",
   "execution_count": null,
   "metadata": {},
   "outputs": [],
   "source": [
    "sns.heatmap(cc/np.max(cc,axis=0),yticklabels=np.unique(adata_sc.obs['Cell_class']))\n",
    "sns.heatmap(cc/np.max(cc,axis=0),yticklabels=np.unique(adata_sc.obs['Cell_class']))"
   ]
  },
  {
   "cell_type": "code",
   "execution_count": null,
   "metadata": {},
   "outputs": [],
   "source": [
    "# starmap"
   ]
  },
  {
   "cell_type": "code",
   "execution_count": null,
   "metadata": {},
   "outputs": [],
   "source": [
    "adata=sc.read_h5ad(R\"starmap.h5ad\")"
   ]
  },
  {
   "cell_type": "code",
   "execution_count": null,
   "metadata": {},
   "outputs": [],
   "source": [
    "ex=np.random.choice(adata.shape[0],size=200,replace=False)\n",
    "adata_st=adata[ex,:].copy()\n",
    "sc_d=np.setdiff1d(np.arange(0,adata.shape[0]),ex)\n",
    "adata_sc=adata[np.random.choice(sc_d.shape[0],size=1000,replace=False),:].copy()"
   ]
  },
  {
   "cell_type": "code",
   "execution_count": null,
   "metadata": {},
   "outputs": [],
   "source": [
    "neigh = NearestNeighbors(n_neighbors=5)\n",
    "neigh.fit(adata_sc.obsm['spatial'])\n",
    "x_id=neigh.kneighbors(adata_st.obsm['spatial']\n",
    "gene_x=adata_sc.X\n",
    "\n",
    "X_sc_mean=np.zeros((adata_st.X.shape))\n",
    "for i in range(X_sc_mean.shape[0]):\n",
    "    X_sc_mean[i,:]=np.sum(gene_x[x_id[1][i],:],axis=0)"
   ]
  },
  {
   "cell_type": "code",
   "execution_count": null,
   "metadata": {},
   "outputs": [],
   "source": [
    "adata_sc.obs['Cell_class']=pd.Categorical(adata_sc.obs['label'])\n",
    "adata_st.X=X_sc_mean"
   ]
  },
  {
   "cell_type": "code",
   "execution_count": null,
   "metadata": {},
   "outputs": [],
   "source": [
    "cr = cellrefiner.CellRefiner(adata_st=adata_st,adata_sc=adata_sc,db=db)\n",
    "cr.gen_w()\n",
    "cr.pp_cr(group = \"Cell_class\")\n",
    "cr.sim_cr(iterations=10,W=cr.W,tissue_bound=1)"
   ]
  },
  {
   "cell_type": "code",
   "execution_count": null,
   "metadata": {},
   "outputs": [],
   "source": [
    "#slideseq"
   ]
  },
  {
   "cell_type": "code",
   "execution_count": null,
   "metadata": {},
   "outputs": [],
   "source": [
    "adata = sq.datasets.slideseqv2()\n",
    "ex=np.random.choice(adata.shape[0],size=2000,replace=False)\n",
    "adata_st=adata[ex,:].copy()\n",
    "sc_d=np.setdiff1d(np.arange(0,adata.shape[0]),ex)\n",
    "adata_sc=adata[np.random.choice(sc_d.shape[0],size=10000,replace=False),:].copy()\n",
    "neigh = NearestNeighbors(n_neighbors=5)\n",
    "neigh.fit(adata_sc.obsm['spatial'])\n",
    "x_id=neigh.kneighbors(adata_st.obsm['spatial']\n",
    "gene_x=adata_sc.X\n",
    "\n",
    "X_sc_mean=np.zeros((adata_st.X.shape))\n",
    "for i in range(X_sc_mean.shape[0]):\n",
    "    X_sc_mean[i,:]=np.sum(gene_x[x_id[1][i],:],axis=0)\n",
    "                      \n",
    "adata_sc.obs['Cell_class']=pd.Categorical(adata_sc.obs['cluster'])\n",
    "adata_st.X=X_sc_mean"
   ]
  },
  {
   "cell_type": "code",
   "execution_count": null,
   "metadata": {},
   "outputs": [],
   "source": [
    "cr = cellrefiner.CellRefiner(adata_st=adata_st,adata_sc=adata_sc,db=db)\n",
    "cr.gen_w()\n",
    "cr.pp_cr(group = \"Cell_class\")\n",
    "cr.sim_cr(iterations=10,W=cr.W,tissue_bound=1)"
   ]
  },
  {
   "cell_type": "code",
   "execution_count": null,
   "metadata": {},
   "outputs": [],
   "source": [
    "# visium "
   ]
  },
  {
   "cell_type": "code",
   "execution_count": null,
   "metadata": {},
   "outputs": [],
   "source": [
    "adata_st = sq.datasets.visium_fluo_adata_crop()\n",
    "adata_st = adata_st[\n",
    "    adata_st.obs.cluster.isin([f\"Cortex_{i}\" for i in np.arange(1, 5)])\n",
    "].copy()\n",
    "img = sq.datasets.visium_fluo_image_crop()\n",
    "\n",
    "adata_sc = sq.datasets.sc_mouse_cortex()"
   ]
  },
  {
   "cell_type": "code",
   "execution_count": null,
   "metadata": {},
   "outputs": [],
   "source": [
    "overlapping_genes=list(set(adata_st.var_names)&set(adata_sc.var_names)) # subset to overlapping genes\n",
    "adata_st=adata_st[:,overlapping_genes].copy()\n",
    "adata_sc=adata_sc[:,overlapping_genes].copy()"
   ]
  },
  {
   "cell_type": "code",
   "execution_count": null,
   "metadata": {},
   "outputs": [],
   "source": [
    "cr = cellrefiner.CellRefiner(adata_st=adata_st,adata_sc=adata_sc,db=db)\n",
    "cr.gen_w()\n",
    "cr.pp_cr(group = \"cell_subclass\")\n",
    "cr.sim_cr(iterations=10,W=cr.W,tissue_bound=1)"
   ]
  },
  {
   "cell_type": "code",
   "execution_count": null,
   "metadata": {},
   "outputs": [],
   "source": [
    "# ccc"
   ]
  },
  {
   "cell_type": "code",
   "execution_count": null,
   "metadata": {},
   "outputs": [],
   "source": [
    "L_id=list(np.nonzero(adata_sc.var_names=='Cd46'))[0][0]\n",
    "R_id=list(np.nonzero(adata_sc.var_names=='Jag1'))[0][0]\n",
    "L=adata_sc.X[cr.cell5m,L_id]\n",
    "R=adata_sc.X[cr.cell5m,R_id]\n",
    "P=np.outer(L,R)/(0.5+np.outer(L,R))\n",
    "\n",
    "d=distance_matrix(cr.pos[-1,:,:],cr.pos[-1,:,:])\n",
    "d_mask=d<250\n",
    "c1=P*d_mask\n",
    "c=cell_types_num\n",
    "\n",
    "t1=np.zeros((adata_sc.shape[0],len(np.unique(adata_sc.obs['cell_subclass'])))) \n",
    "for i in range(adata_sc.shape[0]):\n",
    "    t1[i,c[i]]=1\n",
    "cst_num=np.sum(t1,axis=0)     \n",
    "txct_st=np.matmul(np.matmul(np.transpose(t1),c1),t1)\n",
    "txct=np.divide(txct_st,np.outer(cst_num,cst_num)) \n",
    "\n",
    "cst_labels=np.unique(pd.Categorical(cell_types))\n",
    "sns.heatmap(txct_st,xticklabels=cst_labels,yticklabels=cst_labels)"
   ]
  },
  {
   "cell_type": "code",
   "execution_count": null,
   "metadata": {},
   "outputs": [],
   "source": [
    "import scanorama\n",
    "ad1=[adata_sc,adata_st] # adatas_anterior\n",
    "ad2=scanorama.correct_scanpy(ad1,return_dimred=True) # adatas_cor_anterior"
   ]
  },
  {
   "cell_type": "code",
   "execution_count": null,
   "metadata": {},
   "outputs": [],
   "source": [
    "dists=1-cosine_distances(ad2[0][0],ad2[0][1])"
   ]
  },
  {
   "cell_type": "code",
   "execution_count": null,
   "metadata": {},
   "outputs": [],
   "source": [
    "def label_transfer(dist, labels):\n",
    "    lab = pd.get_dummies(labels).to_numpy().T\n",
    "    class_prob = lab @ dist\n",
    "    norm = np.linalg.norm(class_prob, 2, axis=0)\n",
    "    class_prob = class_prob / norm\n",
    "    class_prob = (class_prob.T - class_prob.min(1)) / class_prob.ptp(1)\n",
    "    return class_prob"
   ]
  },
  {
   "cell_type": "code",
   "execution_count": null,
   "metadata": {},
   "outputs": [],
   "source": [
    "class_prob = label_transfer(dists, adata_sc.obs.cell_subclass)"
   ]
  },
  {
   "cell_type": "code",
   "execution_count": null,
   "metadata": {},
   "outputs": [],
   "source": [
    "cst_num=np.sum(class_prob,axis=0)"
   ]
  },
  {
   "cell_type": "code",
   "execution_count": null,
   "metadata": {},
   "outputs": [],
   "source": [
    "txct_st=np.matmul(np.matmul(np.transpose(class_prob),c1),class_prob)\n",
    "txct=np.divide(txct_st,np.outer(cst_num,cst_num))"
   ]
  },
  {
   "cell_type": "code",
   "execution_count": null,
   "metadata": {},
   "outputs": [],
   "source": [
    "txct_st=np.matmul(np.matmul(np.transpose(class_prob),c1),class_prob)"
   ]
  },
  {
   "cell_type": "code",
   "execution_count": null,
   "metadata": {},
   "outputs": [],
   "source": [
    "cst_labels=np.unique(adata_sc.obs.cell_subclass)\n",
    "sns.heatmap(txct_st,xticklabels=cst_labels,yticklabels=cst_labels)"
   ]
  }
 ],
 "metadata": {
  "kernelspec": {
   "display_name": "cellrefiner_env1",
   "language": "python",
   "name": "cellrefiner_env1"
  },
  "language_info": {
   "codemirror_mode": {
    "name": "ipython",
    "version": 3
   },
   "file_extension": ".py",
   "mimetype": "text/x-python",
   "name": "python",
   "nbconvert_exporter": "python",
   "pygments_lexer": "ipython3",
   "version": "3.7.16"
  }
 },
 "nbformat": 4,
 "nbformat_minor": 5
}
